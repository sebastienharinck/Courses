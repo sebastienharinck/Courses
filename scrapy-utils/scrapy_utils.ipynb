{
 "cells": [
  {
   "cell_type": "markdown",
   "metadata": {},
   "source": [
    "# Scrapy Utils\n",
    "The purpose of this jupyter notebook is to provide some useful tips for managing scrapy."
   ]
  },
  {
   "cell_type": "code",
   "execution_count": 1,
   "metadata": {
    "collapsed": true
   },
   "outputs": [],
   "source": [
    "from scrapy import Request\n",
    "from scrapy.utils.request import request_fingerprint\n",
    "\n",
    "import shutil\n",
    "import os"
   ]
  },
  {
   "cell_type": "markdown",
   "metadata": {},
   "source": [
    "## Methods\n",
    "### Retrieve fingerprint from url\n",
    "Scrapy is able to cache our requests. This cached url are stored in .scrapy/httpcache by default. And they are saved like a fingerprint. <br>\n",
    "\n",
    "[request_fingerprint](https://github.com/scrapy/scrapy/blob/master/scrapy/utils/request.py) generate a sha1 from this parameters :\n",
    "- request method ('GET', 'POST', etc)\n",
    "- request url\n",
    "- request body"
   ]
  },
  {
   "cell_type": "code",
   "execution_count": 2,
   "metadata": {
    "collapsed": true
   },
   "outputs": [],
   "source": [
    "def get_fingerprint(url, method='GET', headers=None):\n",
    "    request = Request(url, method=method)\n",
    "    return request_fingerprint(request)"
   ]
  },
  {
   "cell_type": "code",
   "execution_count": 3,
   "metadata": {},
   "outputs": [
    {
     "data": {
      "text/plain": [
       "'0929449f1da37f7c7a27ec01e041e7ac62b91165'"
      ]
     },
     "execution_count": 3,
     "metadata": {},
     "output_type": "execute_result"
    }
   ],
   "source": [
    "fingerprint = get_fingerprint('https://www.scrapy.org/')\n",
    "fingerprint"
   ]
  },
  {
   "cell_type": "markdown",
   "metadata": {},
   "source": [
    "For example, if I do a request on this url https://www.scrapy.org/, scrapy will store the request and the response in __.scrapy/httpcache/spider_name/09/0929449f1da37f7c7a27ec01e041e7ac62b91165__ <br>"
   ]
  },
  {
   "cell_type": "code",
   "execution_count": 4,
   "metadata": {
    "collapsed": true
   },
   "outputs": [],
   "source": [
    "def cache_path_from_fingerprint(finger_print, spider_name, httpcache_dir='httpcache'):\n",
    "    return os.path.join('.scrapy', httpcache_dir, spider_name, finger_print[:2], finger_print)"
   ]
  },
  {
   "cell_type": "code",
   "execution_count": 5,
   "metadata": {},
   "outputs": [
    {
     "data": {
      "text/plain": [
       "'.scrapy/httpcache/test/09/0929449f1da37f7c7a27ec01e041e7ac62b91165'"
      ]
     },
     "execution_count": 5,
     "metadata": {},
     "output_type": "execute_result"
    }
   ],
   "source": [
    "cache_path = cache_path_from_fingerprint(fingerprint, spider_name='test')\n",
    "cache_path"
   ]
  },
  {
   "cell_type": "markdown",
   "metadata": {},
   "source": [
    "### Delete directory\n",
    "Simple method that delete a directory recursively. Warning : does not display errors if the directory doesn't exist"
   ]
  },
  {
   "cell_type": "code",
   "execution_count": 6,
   "metadata": {
    "collapsed": true
   },
   "outputs": [],
   "source": [
    "def delete_directory(path):\n",
    "    shutil.rmtree(path, ignore_errors=True)"
   ]
  },
  {
   "cell_type": "markdown",
   "metadata": {},
   "source": [
    "# Applications"
   ]
  },
  {
   "cell_type": "markdown",
   "metadata": {},
   "source": [
    "I usually use this method to retrieve a bad cached url and delete it for rebuilding the cache."
   ]
  },
  {
   "cell_type": "code",
   "execution_count": 7,
   "metadata": {},
   "outputs": [],
   "source": [
    "delete_directory(cache_path)"
   ]
  }
 ],
 "metadata": {
  "kernelspec": {
   "display_name": "Python 3",
   "language": "python",
   "name": "python3"
  },
  "language_info": {
   "codemirror_mode": {
    "name": "ipython",
    "version": 3
   },
   "file_extension": ".py",
   "mimetype": "text/x-python",
   "name": "python",
   "nbconvert_exporter": "python",
   "pygments_lexer": "ipython3",
   "version": "3.6.3"
  }
 },
 "nbformat": 4,
 "nbformat_minor": 2
}
