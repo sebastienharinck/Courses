{
 "cells": [
  {
   "cell_type": "markdown",
   "metadata": {},
   "source": [
    "# Tensorboard\n",
    "The goal of this document is to have a panel of features of tensorboard."
   ]
  },
  {
   "cell_type": "code",
   "execution_count": 1,
   "metadata": {},
   "outputs": [],
   "source": [
    "import tensorflow as tf\n",
    "import numpy as np"
   ]
  },
  {
   "cell_type": "markdown",
   "metadata": {},
   "source": [
    "### Simple example"
   ]
  },
  {
   "cell_type": "markdown",
   "metadata": {},
   "source": [
    "iterator = tf.placeholder(tf.int32)\n",
    "\n",
    "with tf.Session() as sess:\n",
    "    sess.run(tf.global_variables_initializer())\n",
    "    \n",
    "    for i in range(5):\n",
    "        it = iterator.eval(feed_dict={iterator: i})\n",
    "        print(it)\n"
   ]
  },
  {
   "cell_type": "code",
   "execution_count": 2,
   "metadata": {},
   "outputs": [
    {
     "name": "stdout",
     "output_type": "stream",
     "text": [
      "1.0\n",
      "2.71828182846\n",
      "7.38905609893\n",
      "20.0855369232\n",
      "54.5981500331\n",
      "148.413159103\n",
      "403.428793493\n",
      "1096.63315843\n",
      "2980.95798704\n",
      "8103.08392758\n",
      "22026.4657948\n",
      "59874.1417152\n",
      "162754.791419\n",
      "442413.392009\n",
      "1202604.28416\n",
      "3269017.37247\n",
      "8886110.52051\n",
      "24154952.7536\n",
      "65659969.1373\n",
      "178482300.963\n",
      "485165195.41\n",
      "1318815734.48\n",
      "3584912846.13\n",
      "9744803446.25\n",
      "26489122129.8\n",
      "72004899337.4\n",
      "195729609429.0\n",
      "532048240602.0\n",
      "1.44625706429e+12\n",
      "3.93133429714e+12\n",
      "1.06864745815e+13\n",
      "2.90488496652e+13\n",
      "7.89629601827e+13\n",
      "2.14643579786e+14\n",
      "5.83461742527e+14\n",
      "1.58601345231e+15\n",
      "4.31123154712e+15\n",
      "1.17191423728e+16\n",
      "3.18559317571e+16\n",
      "8.6593400424e+16\n",
      "2.35385266837e+17\n",
      "6.3984349353e+17\n",
      "1.73927494152e+18\n",
      "4.72783946823e+18\n",
      "1.28516001144e+19\n",
      "3.49342710575e+19\n",
      "9.4961194206e+19\n",
      "2.58131288619e+20\n",
      "7.0167359121e+20\n",
      "1.9073465725e+21\n",
      "5.18470552859e+21\n",
      "1.40934908243e+22\n",
      "3.83100800072e+22\n",
      "1.0413759433e+23\n",
      "2.83075330327e+23\n",
      "7.69478526514e+23\n",
      "2.09165949601e+24\n",
      "5.68571999934e+24\n",
      "1.54553893559e+25\n",
      "4.20121040379e+25\n",
      "1.14200738982e+26\n",
      "3.1042979357e+26\n",
      "8.43835666874e+26\n",
      "2.29378315947e+27\n",
      "6.23514908081e+27\n",
      "1.69488924441e+28\n",
      "4.60718663433e+28\n",
      "1.25236317084e+29\n",
      "3.40427604993e+29\n",
      "9.25378172559e+29\n",
      "2.51543867092e+30\n",
      "6.83767122976e+30\n",
      "1.85867174528e+31\n",
      "5.05239363028e+31\n",
      "1.37338297954e+32\n",
      "3.7332419968e+32\n",
      "1.01480038811e+33\n",
      "2.75851345452e+33\n",
      "7.49841699699e+33\n",
      "2.03828106651e+34\n",
      "5.54062238439e+34\n",
      "1.50609731459e+35\n",
      "4.09399696213e+35\n",
      "1.11286375479e+36\n",
      "3.0250773222e+36\n",
      "8.22301271462e+36\n",
      "2.23524660373e+37\n",
      "6.07603022506e+37\n",
      "1.65163625499e+38\n",
      "4.48961281917e+38\n",
      "1.22040329432e+39\n",
      "3.31740009834e+39\n",
      "9.01762840503e+39\n",
      "2.45124554292e+40\n",
      "6.66317621641e+40\n",
      "1.81123908289e+41\n",
      "4.92345828601e+41\n",
      "1.3383347192e+42\n",
      "3.63797094761e+42\n",
      "9.88903031935e+42\n"
     ]
    }
   ],
   "source": [
    "iterator_tensorboard = tf.placeholder(tf.float32)\n",
    "tf.summary.scalar('Iterator_tensorboard', iterator_tensorboard)\n",
    "\n",
    "merged = tf.summary.merge_all()\n",
    "logdir = \"tensorboard_logs\"\n",
    "\n",
    "\n",
    "with tf.Session() as sess:\n",
    "    writer = tf.summary.FileWriter(logdir, sess.graph)\n",
    "    writer.flush()\n",
    "    sess.run(tf.global_variables_initializer())\n",
    "    \n",
    "    for i in range(100):\n",
    "        print(np.exp(i))\n",
    "        summary = sess.run(merged, feed_dict={iterator_tensorboard: np.exp(i)})\n",
    "        writer.add_summary(summary, i)\n",
    "       \n",
    "    "
   ]
  },
  {
   "cell_type": "markdown",
   "metadata": {},
   "source": [
    "## Installation"
   ]
  },
  {
   "cell_type": "markdown",
   "metadata": {},
   "source": [
    "You can install tensorboard here : https://github.com/dmlc/tensorboard"
   ]
  },
  {
   "cell_type": "markdown",
   "metadata": {},
   "source": [
    "### Command\n",
    "tensorboard --logdir=tensorboard_logs"
   ]
  },
  {
   "cell_type": "code",
   "execution_count": null,
   "metadata": {},
   "outputs": [],
   "source": []
  }
 ],
 "metadata": {
  "kernelspec": {
   "display_name": "Python 3",
   "language": "python",
   "name": "python3"
  },
  "language_info": {
   "codemirror_mode": {
    "name": "ipython",
    "version": 3
   },
   "file_extension": ".py",
   "mimetype": "text/x-python",
   "name": "python",
   "nbconvert_exporter": "python",
   "pygments_lexer": "ipython3",
   "version": "3.5.2"
  }
 },
 "nbformat": 4,
 "nbformat_minor": 2
}
